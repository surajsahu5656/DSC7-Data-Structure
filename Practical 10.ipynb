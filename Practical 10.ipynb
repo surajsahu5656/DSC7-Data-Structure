{
  "metadata": {
    "kernelspec": {
      "name": "python",
      "display_name": "Python (Pyodide)",
      "language": "python"
    },
    "language_info": {
      "codemirror_mode": {
        "name": "python",
        "version": 3
      },
      "file_extension": ".py",
      "mimetype": "text/x-python",
      "name": "python",
      "nbconvert_exporter": "python",
      "pygments_lexer": "ipython3",
      "version": "3.8"
    }
  },
  "nbformat_minor": 4,
  "nbformat": 4,
  "cells": [
    {
      "cell_type": "code",
      "source": "# Initialize the stack\nstack = []\n\n# Function to push an element to the stack\ndef push(stack, element):\n    stack.append(element)\n    print(f\"Element {element} pushed to the stack\")\n\n# Function to pop an element from the stack\ndef pop(stack):\n    if len(stack) == 0:\n        print(\"Stack is empty\")\n        return None\n    else:\n        element = stack.pop()\n        print(f\"Element {element} popped from the stack\")\n        return element\n\n# Function to display the stack\ndef display(stack):\n    if len(stack) == 0:\n        print(\"Stack is empty\")\n    else:\n        print(\"Stack elements from top to bottom:\")\n        for i in range(len(stack)-1, -1, -1):\n            print(stack[i])\n\n# Main function to run the stack operations\ndef main():\n    while True:\n        print(\"\\nChoose an operation:\")\n        print(\"1. Push\")\n        print(\"2. Pop\")\n        print(\"3. Display\")\n        print(\"4. Exit\")\n        \n        choice = int(input(\"Enter your choice: \"))\n        \n        if choice == 1:\n            element = int(input(\"Enter the element to push: \"))\n            push(stack, element)\n        elif choice == 2:\n            pop(stack)\n        elif choice == 3:\n            display(stack)\n        elif choice == 4:\n            print(\"Exiting...\")\n            break\n        else:\n            print(\"Invalid choice. Please choose again.\")\n\n# Run the main function\nif __name__ == \"__main__\":\n    main()\n",
      "metadata": {
        "trusted": true
      },
      "outputs": [],
      "execution_count": null
    }
  ]
}