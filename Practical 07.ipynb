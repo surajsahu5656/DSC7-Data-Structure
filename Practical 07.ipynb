{
  "metadata": {
    "kernelspec": {
      "name": "python",
      "display_name": "Python (Pyodide)",
      "language": "python"
    },
    "language_info": {
      "codemirror_mode": {
        "name": "python",
        "version": 3
      },
      "file_extension": ".py",
      "mimetype": "text/x-python",
      "name": "python",
      "nbconvert_exporter": "python",
      "pygments_lexer": "ipython3",
      "version": "3.8"
    }
  },
  "nbformat_minor": 4,
  "nbformat": 4,
  "cells": [
    {
      "cell_type": "code",
      "source": "class Node:\n    def __init__(self, data):\n        self.data = data\n        self.next = None\n\nclass CircularLinkedList:\n    def __init__(self):\n        self.head = None\n\n    # (i) Traversing\n    def traverse(self):\n        if self.head is None:\n            print(\"List is empty\")\n            return\n        current = self.head\n        while True:\n            print(current.data, end=\" -> \")\n            current = current.next\n            if current == self.head:\n                break\n        print(\"Head\")\n\n    # (ii) Insertion\n    # (a) At the beginning\n    def insert_at_beginning(self, data):\n        new_node = Node(data)\n        if self.head is None:\n            self.head = new_node\n            new_node.next = self.head\n        else:\n            new_node.next = self.head\n            current = self.head\n            while current.next != self.head:\n                current = current.next\n            current.next = new_node\n            self.head = new_node\n\n    # (b) At the end\n    def insert_at_end(self, data):\n        new_node = Node(data)\n        if self.head is None:\n            self.head = new_node\n            new_node.next = self.head\n        else:\n            current = self.head\n            while current.next != self.head:\n                current = current.next\n            current.next = new_node\n            new_node.next = self.head\n\n    # (c) At any position\n    def insert_at_position(self, data, position):\n        if position == 0:\n            self.insert_at_beginning(data)\n            return\n        new_node = Node(data)\n        current = self.head\n        for _ in range(position - 1):\n            if current.next == self.head:\n                raise IndexError(\"Position out of bounds\")\n            current = current.next\n        new_node.next = current.next\n        current.next = new_node\n\n    # (iii) Deletion\n    # (a) At the beginning\n    def delete_at_beginning(self):\n        if self.head is None:\n            return\n        if self.head.next == self.head:\n            self.head = None\n        else:\n            current = self.head\n            while current.next != self.head:\n                current = current.next\n            current.next = self.head.next\n            self.head = self.head.next\n\n    # (b) At the end\n    def delete_at_end(self):\n        if self.head is None:\n            return\n        if self.head.next == self.head:\n            self.head = None\n        else:\n            current = self.head\n            while current.next.next != self.head:\n                current = current.next\n            current.next = self.head\n\n    # (c) At any position\n    def delete_at_position(self, position):\n        if self.head is None:\n            return\n        if position == 0:\n            self.delete_at_beginning()\n            return\n        current = self.head\n        for _ in range(position - 1):\n            if current.next.next == self.head:\n                raise IndexError(\"Position out of bounds\")\n            current = current.next\n        current.next = current.next.next\n\n# Example usage\ncll = CircularLinkedList()\ncll.insert_at_beginning(10)\ncll.insert_at_end(20)\ncll.insert_at_position(15, 1)\ncll.traverse() \ncll.delete_at_position(1)\ncll.traverse()  \ncll.delete_at_beginning()\ncll.traverse()  \ncll.delete_at_end()\ncll.traverse()  \n",
      "metadata": {
        "trusted": true
      },
      "outputs": [
        {
          "name": "stdout",
          "text": "10 -> 15 -> 20 -> Head\n10 -> 20 -> Head\n20 -> Head\nList is empty\n",
          "output_type": "stream"
        }
      ],
      "execution_count": 1
    },
    {
      "cell_type": "code",
      "source": "",
      "metadata": {
        "trusted": true
      },
      "outputs": [],
      "execution_count": null
    }
  ]
}