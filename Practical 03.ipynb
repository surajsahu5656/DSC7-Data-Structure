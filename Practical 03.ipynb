{
  "metadata": {
    "kernelspec": {
      "name": "python",
      "display_name": "Python (Pyodide)",
      "language": "python"
    },
    "language_info": {
      "codemirror_mode": {
        "name": "python",
        "version": 3
      },
      "file_extension": ".py",
      "mimetype": "text/x-python",
      "name": "python",
      "nbconvert_exporter": "python",
      "pygments_lexer": "ipython3",
      "version": "3.8"
    }
  },
  "nbformat_minor": 4,
  "nbformat": 4,
  "cells": [
    {
      "cell_type": "code",
      "source": "import numpy as np\narr1 = np.array([[20,15],\n                 [45,10]])\nprint(arr1.dtype)\nprint(arr1.ndim)\nprint(arr1.shape)\nprint(arr1.flatten())\narr2 = np.array([[61,23],[14,57]])\nprint(arr1 + arr2)\nprint(arr1 - arr2)\nprint(arr1/arr2)",
      "metadata": {
        "trusted": true
      },
      "outputs": [
        {
          "name": "stdout",
          "text": "int32\n2\n(2, 2)\n[20 15 45 10]\n[[81 38]\n [59 67]]\n[[-41  -8]\n [ 31 -47]]\n[[0.32786885 0.65217391]\n [3.21428571 0.1754386 ]]\n",
          "output_type": "stream"
        }
      ],
      "execution_count": 12
    },
    {
      "cell_type": "code",
      "source": "",
      "metadata": {
        "trusted": true
      },
      "outputs": [],
      "execution_count": null
    }
  ]
}