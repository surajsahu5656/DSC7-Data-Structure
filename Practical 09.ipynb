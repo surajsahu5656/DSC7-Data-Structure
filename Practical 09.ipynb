{
  "metadata": {
    "kernelspec": {
      "name": "python",
      "display_name": "Python (Pyodide)",
      "language": "python"
    },
    "language_info": {
      "codemirror_mode": {
        "name": "python",
        "version": 3
      },
      "file_extension": ".py",
      "mimetype": "text/x-python",
      "name": "python",
      "nbconvert_exporter": "python",
      "pygments_lexer": "ipython3",
      "version": "3.8"
    }
  },
  "nbformat_minor": 4,
  "nbformat": 4,
  "cells": [
    {
      "cell_type": "code",
      "source": "class Node:\n    def __init__(self, data):\n        self.data = data\n        self.next = None\n\nclass Queue:\n    def __init__(self):\n        self.front = None\n        self.rear = None\n\n    def enqueue(self, data):\n        new_node = Node(data)\n        if self.rear is None:\n            self.front = self.rear = new_node\n        else:\n            self.rear.next = new_node\n            self.rear = new_node\n        print(f\"Element {data} added to the queue\")\n\n    def dequeue(self):\n        if self.front is None:\n            print(\"Queue is empty\")\n            return None\n        else:\n            removed_node = self.front\n            self.front = self.front.next\n            if self.front is None:\n                self.rear = None\n            print(f\"Element {removed_node.data} removed from the queue\")\n            return removed_node.data\n\n    def display(self):\n        if self.front is None:\n            print(\"Queue is empty\")\n        else:\n            current = self.front\n            print(\"Queue elements from front to rear:\")\n            while current:\n                print(current.data, end=\" \")\n                current = current.next\n            print()\n\n# Main function to run the queue operations\ndef main():\n    queue = Queue()\n    while True:\n        print(\"\\nChoose an operation:\")\n        print(\"1. Display\")\n        print(\"2. Enqueue\")\n        print(\"3. Dequeue\")\n        print(\"4. Exit\")\n        \n        choice = int(input(\"Enter your choice: \"))\n        \n        if choice == 1:\n            queue.display()\n        elif choice == 2:\n            element = int(input(\"Enter the element to enqueue: \"))\n            queue.enqueue(element)\n        elif choice == 3:\n            queue.dequeue()\n        elif choice == 4:\n            print(\"Exiting...\")\n            break\n        else:\n            print(\"Invalid choice. Please choose again.\")\n\n# Run the main function\nif __name__ == \"__main__\":\n    main()\n",
      "metadata": {
        "trusted": true
      },
      "outputs": [
        {
          "name": "stdout",
          "text": "20 > 30 > 40 > None\n",
          "output_type": "stream"
        }
      ],
      "execution_count": 1
    }
  ]
}