{
 "cells": [
  {
   "cell_type": "code",
   "execution_count": null,
   "metadata": {
    "trusted": true
   },
   "outputs": [
    {
     "ename": "",
     "evalue": "",
     "output_type": "error",
     "traceback": [
      "\u001b[1;31mRunning cells with 'Python 3.13.0' requires the ipykernel package.\n",
      "\u001b[1;31mRun the following command to install 'ipykernel' into the Python environment. \n",
      "\u001b[1;31mCommand: '\"c:/Users/Suraj Sahu/AppData/Local/Microsoft/WindowsApps/python3.13.exe\" -m pip install ipykernel -U --user --force-reinstall'"
     ]
    }
   ],
   "source": [
    "\n",
    "import array\n",
    "\n",
    "# Create an array\n",
    "arr = array.array('i', [1, 2, 3, 4, 5, 6, 7])\n",
    "\n",
    "# (i) Add a new element to an array\n",
    "arr.append(8)\n",
    "print(\"Array after adding one element:\", arr)\n",
    "\n",
    "# (ii) Add four elements to an array\n",
    "arr.extend([9, 10, 11, 12])\n",
    "print(\"Array after adding four elements:\", arr)\n",
    "\n",
    "# (iii) Add an element at the fourth position\n",
    "arr.insert(3, 20)\n",
    "print(\"Array after inserting element at fourth position:\", arr)\n",
    "\n",
    "# (iv) Delete seventh element from the left of an array\n",
    "del arr[6]\n",
    "print(\"Array after deleting the seventh element:\", arr)\n",
    "\n",
    "# (v) Remove last element and return it\n",
    "last_element = arr.pop()\n",
    "print(\"Last element removed:\", last_element)\n",
    "print(\"Array after removing the last element:\", arr)\n",
    "\n",
    "# (vi) Create two arrays having three elements each and merge all three arrays\n",
    "arr1 = array.array('i', [13, 14, 15])\n",
    "arr2 = array.array('i', [16, 17, 18])\n",
    "merged_array = arr + arr1 + arr2\n",
    "print(\"Merged array:\", merged_array)\n",
    "\n",
    "# (vii) Display the array formed in question (vi)\n",
    "print(\"Final array:\", merged_array)\n",
    "\n",
    "# (viii) Determine the length of the new array formed\n",
    "length_of_array = len(merged_array)\n",
    "print(\"Length of the new array:\", length_of_array)\n",
    "\n",
    "# (ix) Print the ninth element of the new array\n",
    "if length_of_array >= 9:\n",
    "    ninth_element = merged_array[8]\n",
    "    print(\"The ninth element of the new array:\", ninth_element)\n",
    "else:\n",
    "    print(\"The array does not have nine elements.\")\n"
   ]
  }
 ],
 "metadata": {
  "kernelspec": {
   "display_name": "Python 3",
   "language": "python",
   "name": "python3"
  },
  "language_info": {
   "name": "python",
   "version": "3.13.0"
  }
 },
 "nbformat": 4,
 "nbformat_minor": 4
}
