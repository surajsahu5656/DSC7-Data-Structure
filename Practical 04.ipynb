{
  "metadata": {
    "kernelspec": {
      "name": "python",
      "display_name": "Python (Pyodide)",
      "language": "python"
    },
    "language_info": {
      "codemirror_mode": {
        "name": "python",
        "version": 3
      },
      "file_extension": ".py",
      "mimetype": "text/x-python",
      "name": "python",
      "nbconvert_exporter": "python",
      "pygments_lexer": "ipython3",
      "version": "3.8"
    }
  },
  "nbformat_minor": 4,
  "nbformat": 4,
  "cells": [
    {
      "cell_type": "code",
      "source": "import numpy as np\narr3 = np.array([[25,54,58],\n                 [21,75,96],\n                 [56,25,36]])\nprint(arr3.transpose())\narr4 = np.array([[45,12,78],\n                [45,85,65],\n                [25,43,67]])\nprint(arr3.dot(arr4))",
      "metadata": {
        "trusted": true
      },
      "outputs": [
        {
          "name": "stdout",
          "text": "[[25 21 56]\n [54 75 25]\n [58 96 36]]\n[[ 5005  7384  9346]\n [ 6720 10755 12945]\n [ 4545  4345  8405]]\n",
          "output_type": "stream"
        }
      ],
      "execution_count": 1
    },
    {
      "cell_type": "code",
      "source": "",
      "metadata": {
        "trusted": true
      },
      "outputs": [],
      "execution_count": null
    }
  ]
}