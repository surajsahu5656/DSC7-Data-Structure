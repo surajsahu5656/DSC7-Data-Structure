{
  "metadata": {
    "kernelspec": {
      "name": "python",
      "display_name": "Python (Pyodide)",
      "language": "python"
    },
    "language_info": {
      "codemirror_mode": {
        "name": "python",
        "version": 3
      },
      "file_extension": ".py",
      "mimetype": "text/x-python",
      "name": "python",
      "nbconvert_exporter": "python",
      "pygments_lexer": "ipython3",
      "version": "3.8"
    }
  },
  "nbformat_minor": 4,
  "nbformat": 4,
  "cells": [
    {
      "cell_type": "code",
      "source": "class Node:\n    def __init__(self, data):\n        self.data = data\n        self.next = None\n\nclass Stack:\n    def __init__(self):\n        self.top = None\n        self.size = 0\n\n    def push(self, data):\n        new_node = Node(data)\n        new_node.next = self.top\n        self.top = new_node\n        self.size += 1\n        print(f\"Element {data} pushed to the stack\")\n\n    def pop(self):\n        if self.top is None:\n            print(\"Stack is empty\")\n            return None\n        else:\n            popped_node = self.top\n            self.top = self.top.next\n            self.size -= 1\n            print(f\"Element {popped_node.data} popped from the stack\")\n            return popped_node.data\n\n    def display(self):\n        if self.top is None:\n            print(\"Stack is empty\")\n        else:\n            current = self.top\n            print(\"Stack elements from top to bottom:\")\n            while current:\n                print(current.data)\n                current = current.next\n\n# Main function to run the stack operations\ndef main():\n    stack = Stack()\n    while True:\n        print(\"\\nChoose an operation:\")\n        print(\"1. Push\")\n        print(\"2. Pop\")\n        print(\"3. Display\")\n        print(\"4. Exit\")\n        \n        choice = int(input(\"Enter your choice: \"))\n        \n        if choice == 1:\n            element = int(input(\"Enter the element to push: \"))\n            stack.push(element)\n        elif choice == 2:\n            stack.pop()\n        elif choice == 3:\n            stack.display()\n        elif choice == 4:\n            print(\"Exiting...\")\n            break\n        else:\n            print(\"Invalid choice. Please choose again.\")\n\n# Run the main function\nif __name__ == \"__main__\":\n    main()\n",
      "metadata": {
        "trusted": true
      },
      "outputs": [
        {
          "name": "stdout",
          "text": "40-->30-->20-->10-->none\nsize of stack:  4\ntop element:  40\n30-->20-->10-->none\nsize of stack:  3\ntop element:  30\n20-->10-->none\nsize of stack:  2\ntop element:  20\n\n",
          "output_type": "stream"
        }
      ],
      "execution_count": 10
    },
    {
      "cell_type": "code",
      "source": "",
      "metadata": {
        "trusted": true
      },
      "outputs": [],
      "execution_count": null
    }
  ]
}